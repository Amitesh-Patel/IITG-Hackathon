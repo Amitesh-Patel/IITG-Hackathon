{
  "nbformat": 4,
  "nbformat_minor": 0,
  "metadata": {
    "colab": {
      "provenance": []
    },
    "kernelspec": {
      "name": "python3",
      "display_name": "Python 3"
    },
    "language_info": {
      "name": "python"
    }
  },
  "cells": [
    {
      "cell_type": "markdown",
      "source": [
        "## **Flexible Container**"
      ],
      "metadata": {
        "id": "uWuvC9eyoOIk"
      }
    },
    {
      "cell_type": "code",
      "execution_count": null,
      "metadata": {
        "id": "t95A4iJhoDVf"
      },
      "outputs": [],
      "source": [
        "\n",
        "\n",
        "import pandas as pd\n",
        "import streamlit as st\n",
        "\n",
        "# Cache the dataframe so it's only loaded once\n",
        "@st.experimental_memo\n",
        "def load_data():\n",
        "    return pd.DataFrame(\n",
        "        {\n",
        "            \"first column\": [1, 2, 3, 4],\n",
        "            \"second column\": [10, 20, 30, 40],\n",
        "        }\n",
        "    )\n",
        "\n",
        "# Boolean to resize the dataframe, stored as a session state variable\n",
        "st.checkbox(\"Use container width\", value=False, key=\"use_container_width\")\n",
        "\n",
        "df = load_data()\n",
        "\n",
        "# Display the dataframe and allow the user to stretch the dataframe\n",
        "# across the full width of the container, based on the checkbox value\n",
        "st.dataframe(df, use_container_width=st.session_state.use_container_width)"
      ]
    },
    {
      "cell_type": "markdown",
      "source": [],
      "metadata": {
        "id": "6hEfm6vGoMYV"
      }
    },
    {
      "cell_type": "markdown",
      "source": [
        "# Text Input"
      ],
      "metadata": {
        "id": "Gm6euJKOog0v"
      }
    },
    {
      "cell_type": "code",
      "source": [
        "title = st.text_input('Movie title', 'Life of Brian')\n",
        "st.write('The current movie title is', title)"
      ],
      "metadata": {
        "id": "bi6T5Hj4qyFs"
      },
      "execution_count": null,
      "outputs": []
    },
    {
      "cell_type": "markdown",
      "source": [
        "## **Loading Wait**"
      ],
      "metadata": {
        "id": "jXggh7mIrO-g"
      }
    },
    {
      "cell_type": "code",
      "source": [
        "with st.spinner('Wait for it...'):\n",
        "    time.sleep(60)\n",
        "st.success('Done!')"
      ],
      "metadata": {
        "id": "UJg9v1eKq0_H"
      },
      "execution_count": null,
      "outputs": []
    },
    {
      "cell_type": "markdown",
      "source": [
        "## **Reactive like Input**"
      ],
      "metadata": {
        "id": "QG_HcryevEGA"
      }
    },
    {
      "cell_type": "code",
      "source": [
        "name = st_keyup(\"What is your name\")\n",
        "st.write(f\"Hello {name}\")"
      ],
      "metadata": {
        "id": "kTDt5eMIvDFA"
      },
      "execution_count": null,
      "outputs": []
    },
    {
      "cell_type": "markdown",
      "source": [
        "# Pie Chart"
      ],
      "metadata": {
        "id": "3_tn67tQwgqY"
      }
    },
    {
      "cell_type": "code",
      "source": [
        "import streamlit as st\n",
        "import numpy as np\n",
        "import matplotlib.pyplot as plt\n",
        "import pandas as pd\n",
        "import seaborn as sns\n",
        "import plotly.express as px\n",
        "\n",
        "def main():\n",
        "\tst.title(\"Visualization Plots using streamlit\")\n",
        "\tdf = pd.read_csv('Sentences_50Agree.txt',encoding = \"ISO-8859-1\",on_bad_lines = 'skip',sep = \" .@\")\n",
        "\tdf.columns = ['News_sentences','sentiment']\n",
        "\tst.dataframe(df)\n",
        "\t# fig = plt.figure(figsize = [10,5])\n",
        "\t# df['sentiment'].value_counts().plot(kind = 'bar')\n",
        "\t# st.pyplot(fig)\n",
        "\tfig1 = px.pie(values = df['sentiment'].value_counts(),names = pd.unique(df['sentiment']),title='Piechart')\n",
        "\tst.plotly_chart(fig1)\n",
        "\n",
        "\n",
        "\n",
        "main()"
      ],
      "metadata": {
        "id": "bk9GXkzrvoTs"
      },
      "execution_count": null,
      "outputs": []
    }
  ]
}